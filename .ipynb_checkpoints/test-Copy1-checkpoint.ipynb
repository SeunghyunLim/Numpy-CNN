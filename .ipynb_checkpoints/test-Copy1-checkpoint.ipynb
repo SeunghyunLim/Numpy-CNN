{
 "cells": [
  {
   "cell_type": "code",
   "execution_count": 3,
   "metadata": {},
   "outputs": [],
   "source": [
    "from CNN.network import *\n",
    "from CNN.utils import *\n",
    "\n",
    "from tqdm import tqdm\n",
    "import argparse\n",
    "import matplotlib.pyplot as plt\n",
    "import pickle"
   ]
  },
  {
   "cell_type": "code",
   "execution_count": 4,
   "metadata": {},
   "outputs": [
    {
     "name": "stdout",
     "output_type": "stream",
     "text": [
      "Extracting train-images-idx3-ubyte.gz\n",
      "Extracting train-labels-idx1-ubyte.gz\n"
     ]
    },
    {
     "name": "stderr",
     "output_type": "stream",
     "text": [
      "\r",
      "  0%|                                                                                         | 0/1563 [00:00<?, ?it/s]"
     ]
    },
    {
     "name": "stdout",
     "output_type": "stream",
     "text": [
      "LR:0.01, Batch Size:32\n"
     ]
    },
    {
     "name": "stderr",
     "output_type": "stream",
     "text": [
      "Cost: 0.00: 100%|████████████████████████████████████████████████████████████████| 1563/1563 [2:21:33<00:00,  5.43s/it]\n",
      "Cost: 0.00: 100%|████████████████████████████████████████████████████████████████| 1563/1563 [2:28:19<00:00,  5.69s/it]\n"
     ]
    },
    {
     "data": {
      "image/png": "[encoded data removed]",
      "text/plain": [
       "<Figure size 432x288 with 1 Axes>"
      ]
     },
     "metadata": {
      "needs_background": "light"
     },
     "output_type": "display_data"
    },
    {
     "name": "stderr",
     "output_type": "stream",
     "text": [
      "\r",
      "  0%|                                                                                        | 0/10000 [00:00<?, ?it/s]"
     ]
    },
    {
     "name": "stdout",
     "output_type": "stream",
     "text": [
      "Extracting t10k-images-idx3-ubyte.gz\n",
      "Extracting t10k-labels-idx1-ubyte.gz\n",
      "\n",
      "Computing accuracy over test set:\n"
     ]
    },
    {
     "name": "stderr",
     "output_type": "stream",
     "text": [
      "Acc:98.59%: 100%|████████████████████████████████████████████████████████████████| 10000/10000 [11:39<00:00, 14.29it/s]\n"
     ]
    },
    {
     "name": "stdout",
     "output_type": "stream",
     "text": [
      "Overall Accuracy: 98.59\n"
     ]
    },
    {
     "data": {
      "image/png": "[encoded data removed]",
      "text/plain": [
       "<Figure size 432x288 with 1 Axes>"
      ]
     },
     "metadata": {
      "needs_background": "light"
     },
     "output_type": "display_data"
    }
   ],
   "source": [
    "#parser = argparse.ArgumentParser(description='Train a convolutional neural network.')\n",
    "#parser.add_argument('save_path', metavar = 'Save Path', help='name of file to save parameters in.')\n",
    "\n",
    "if __name__ == '__main__':\n",
    "    \n",
    "    #args = parser.parse_args()\n",
    "    save_path = 'save.pkl'\n",
    "    \n",
    "    cost = train(save_path = save_path)\n",
    "\n",
    "    params, cost = pickle.load(open(save_path, 'rb'))\n",
    "    [f1, f2, w3, w4, b1, b2, b3, b4] = params\n",
    "    \n",
    "    # Plot cost \n",
    "    plt.plot(cost, 'r')\n",
    "    plt.xlabel('# Iterations')\n",
    "    plt.ylabel('Cost')\n",
    "    plt.legend('Loss', loc='upper right')\n",
    "    plt.show()\n",
    "\n",
    "    # Get test data\n",
    "    m =10000\n",
    "    X = extract_data('t10k-images-idx3-ubyte.gz', m, 28)\n",
    "    y_dash = extract_labels('t10k-labels-idx1-ubyte.gz', m).reshape(m,1)\n",
    "    # Normalize the data\n",
    "    X-= int(np.mean(X)) # subtract mean\n",
    "    X/= int(np.std(X)) # divide by standard deviation\n",
    "    test_data = np.hstack((X,y_dash))\n",
    "    \n",
    "    X = test_data[:,0:-1]\n",
    "    X = X.reshape(len(test_data), 1, 28, 28)\n",
    "    y = test_data[:,-1]\n",
    "\n",
    "    corr = 0\n",
    "    digit_count = [0 for i in range(10)]\n",
    "    digit_correct = [0 for i in range(10)]\n",
    "   \n",
    "    print()\n",
    "    print(\"Computing accuracy over test set:\")\n",
    "\n",
    "    t = tqdm(range(len(X)), leave=True)\n",
    "\n",
    "    for i in t:\n",
    "        x = X[i]\n",
    "        pred, prob = predict(x, f1, f2, w3, w4, b1, b2, b3, b4)\n",
    "        digit_count[int(y[i])]+=1\n",
    "        if pred==y[i]:\n",
    "            corr+=1\n",
    "            digit_correct[pred]+=1\n",
    "\n",
    "        t.set_description(\"Acc:%0.2f%%\" % (float(corr/(i+1))*100))\n",
    "        \n",
    "    print(\"Overall Accuracy: %.2f\" % (float(corr/len(test_data)*100)))\n",
    "    x = np.arange(10)\n",
    "    digit_recall = [x/y for x,y in zip(digit_correct, digit_count)]\n",
    "    plt.xlabel('Digits')\n",
    "    plt.ylabel('Recall')\n",
    "    plt.title(\"Recall on Test Set\")\n",
    "    plt.bar(x,digit_recall)\n",
    "    plt.show()"
   ]
  },
  {
   "cell_type": "code",
   "execution_count": null,
   "metadata": {},
   "outputs": [],
   "source": []
  }
 ],
 "metadata": {
  "kernelspec": {
   "display_name": "Python 3",
   "language": "python",
   "name": "python3"
  },
  "language_info": {
   "codemirror_mode": {
    "name": "ipython",
    "version": 3
   },
   "file_extension": ".py",
   "mimetype": "text/x-python",
   "name": "python",
   "nbconvert_exporter": "python",
   "pygments_lexer": "ipython3",
   "version": "3.7.6"
  }
 },
 "nbformat": 4,
 "nbformat_minor": 4
}
